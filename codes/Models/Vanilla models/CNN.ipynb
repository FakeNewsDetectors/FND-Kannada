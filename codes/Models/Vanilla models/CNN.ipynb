{
  "nbformat": 4,
  "nbformat_minor": 0,
  "metadata": {
    "colab": {
      "provenance": []
    },
    "kernelspec": {
      "name": "python3",
      "display_name": "Python 3"
    },
    "language_info": {
      "name": "python"
    }
  },
  "cells": [
    {
      "cell_type": "markdown",
      "metadata": {
        "id": "LHEJOIKRszPL"
      },
      "source": [
        "Installing dependencies"
      ]
    },
    {
      "cell_type": "code",
      "execution_count": 1,
      "metadata": {
        "colab": {
          "base_uri": "https://localhost:8080/"
        },
        "id": "7xur6YWZzYjz",
        "outputId": "2611a412-0d17-4913-93e7-83a5ced28c44"
      },
      "outputs": [
        {
          "output_type": "stream",
          "name": "stdout",
          "text": [
            "Mounted at /content/drive\n"
          ]
        }
      ],
      "source": [
        "from google.colab import drive\n",
        "drive.mount('/content/drive')"
      ]
    },
    {
      "cell_type": "markdown",
      "metadata": {
        "id": "XuZR1JwNs2Bd"
      },
      "source": [
        "Importing required libraries"
      ]
    },
    {
      "cell_type": "code",
      "execution_count": 2,
      "metadata": {
        "id": "N4JF4DwBgJ3g",
        "colab": {
          "base_uri": "https://localhost:8080/"
        },
        "outputId": "cbfe49d7-45e0-4f9e-8a53-8ac30ff605e4"
      },
      "outputs": [
        {
          "output_type": "stream",
          "name": "stderr",
          "text": [
            "<ipython-input-2-48eeef18465f>:3: TqdmDeprecationWarning: This function will be removed in tqdm==5.0.0\n",
            "Please use `tqdm.notebook.*` instead of `tqdm._tqdm_notebook.*`\n",
            "  from tqdm._tqdm_notebook import tqdm_notebook\n"
          ]
        }
      ],
      "source": [
        "import numpy as np\n",
        "import pandas as pd\n",
        "from tqdm._tqdm_notebook import tqdm_notebook\n",
        "import string\n",
        "import random\n",
        "import logging\n",
        "import sys\n",
        "import matplotlib.pyplot as plt\n",
        "import seaborn as sns\n",
        "import tensorflow as tf\n",
        "from tensorflow import keras\n",
        "from tensorflow.keras.preprocessing.sequence import pad_sequences\n",
        "from tensorflow.keras.utils import to_categorical\n",
        "from tensorflow.keras.models import Sequential \n",
        "from tensorflow.keras.layers import Dense, LSTM, Embedding, Bidirectional, Dropout\n",
        "from keras.layers import *\n",
        "from keras.preprocessing.text import Tokenizer\n",
        "from keras import optimizers\n",
        "from keras.models import Sequential\n",
        "from keras.models import Model\n",
        "from keras.callbacks import EarlyStopping, ModelCheckpoint\n",
        "from sklearn import metrics\n",
        "from sklearn.metrics import confusion_matrix\n",
        "from tensorflow import random\n",
        "from keras import regularizers\n",
        "tf.random.set_seed(1)"
      ]
    },
    {
      "cell_type": "markdown",
      "metadata": {
        "id": "bkKG-gxXs4lJ"
      },
      "source": [
        "Pre-processing data"
      ]
    },
    {
      "cell_type": "code",
      "execution_count": 3,
      "metadata": {
        "id": "93_lgAp6smfL",
        "colab": {
          "base_uri": "https://localhost:8080/",
          "height": 206
        },
        "outputId": "189677da-81ea-4bc2-b530-5c88a71e5cca"
      },
      "outputs": [
        {
          "output_type": "execute_result",
          "data": {
            "text/plain": [
              "                                                news     source  label\n",
              "0    ಈ ವ್ಯಕ್ತಿ ಪ್ರೌಢಶಾಲೆಯಲ್ಲಿ 26 ಬಾರಿ ಫೇಲ್ ಆಗಿದ್ದಾನೆ   oneindia      0\n",
              "1  ಸರ್ಕಾರದ ಜೊತೆ ಉದ್ಧವ್ ಠಾಕ್ರೆಯ ಪಕ್ಷವನ್ನೂ ವಶಪಡಿಸ್ಕ...    asianet      1\n",
              "2  ಹುಲಿ ಸಂರಕ್ಷಿತ ಪ್ರದೇಶ ಘೋಷಣೆ ಸಿಎಂ ನಿರ್ಧಾರಕ್ಕೆ ಉಮ...  prajavani      1\n",
              "3  108 ಗಂಟೆಯಲ್ಲಿ 75 ಕಿಮೀ ರಸ್ತೆ ನಿರ್ಮಾಣದ ಗುರಿ ಗಿನ್...    asianet      1\n",
              "4   ಬಾಳಾಠಾಕ್ರೆ ತಿಲಕ ಇಡುತ್ತಿರುವುದು ಏಕನಾಥ್ ಶಿಂಧೆಗಲ್...    asianet      0"
            ],
            "text/html": [
              "\n",
              "  <div id=\"df-6f4b6d7e-3458-4608-ac9a-1f3640b76082\">\n",
              "    <div class=\"colab-df-container\">\n",
              "      <div>\n",
              "<style scoped>\n",
              "    .dataframe tbody tr th:only-of-type {\n",
              "        vertical-align: middle;\n",
              "    }\n",
              "\n",
              "    .dataframe tbody tr th {\n",
              "        vertical-align: top;\n",
              "    }\n",
              "\n",
              "    .dataframe thead th {\n",
              "        text-align: right;\n",
              "    }\n",
              "</style>\n",
              "<table border=\"1\" class=\"dataframe\">\n",
              "  <thead>\n",
              "    <tr style=\"text-align: right;\">\n",
              "      <th></th>\n",
              "      <th>news</th>\n",
              "      <th>source</th>\n",
              "      <th>label</th>\n",
              "    </tr>\n",
              "  </thead>\n",
              "  <tbody>\n",
              "    <tr>\n",
              "      <th>0</th>\n",
              "      <td>ಈ ವ್ಯಕ್ತಿ ಪ್ರೌಢಶಾಲೆಯಲ್ಲಿ 26 ಬಾರಿ ಫೇಲ್ ಆಗಿದ್ದಾನೆ</td>\n",
              "      <td>oneindia</td>\n",
              "      <td>0</td>\n",
              "    </tr>\n",
              "    <tr>\n",
              "      <th>1</th>\n",
              "      <td>ಸರ್ಕಾರದ ಜೊತೆ ಉದ್ಧವ್ ಠಾಕ್ರೆಯ ಪಕ್ಷವನ್ನೂ ವಶಪಡಿಸ್ಕ...</td>\n",
              "      <td>asianet</td>\n",
              "      <td>1</td>\n",
              "    </tr>\n",
              "    <tr>\n",
              "      <th>2</th>\n",
              "      <td>ಹುಲಿ ಸಂರಕ್ಷಿತ ಪ್ರದೇಶ ಘೋಷಣೆ ಸಿಎಂ ನಿರ್ಧಾರಕ್ಕೆ ಉಮ...</td>\n",
              "      <td>prajavani</td>\n",
              "      <td>1</td>\n",
              "    </tr>\n",
              "    <tr>\n",
              "      <th>3</th>\n",
              "      <td>108 ಗಂಟೆಯಲ್ಲಿ 75 ಕಿಮೀ ರಸ್ತೆ ನಿರ್ಮಾಣದ ಗುರಿ ಗಿನ್...</td>\n",
              "      <td>asianet</td>\n",
              "      <td>1</td>\n",
              "    </tr>\n",
              "    <tr>\n",
              "      <th>4</th>\n",
              "      <td>ಬಾಳಾಠಾಕ್ರೆ ತಿಲಕ ಇಡುತ್ತಿರುವುದು ಏಕನಾಥ್ ಶಿಂಧೆಗಲ್...</td>\n",
              "      <td>asianet</td>\n",
              "      <td>0</td>\n",
              "    </tr>\n",
              "  </tbody>\n",
              "</table>\n",
              "</div>\n",
              "      <button class=\"colab-df-convert\" onclick=\"convertToInteractive('df-6f4b6d7e-3458-4608-ac9a-1f3640b76082')\"\n",
              "              title=\"Convert this dataframe to an interactive table.\"\n",
              "              style=\"display:none;\">\n",
              "        \n",
              "  <svg xmlns=\"http://www.w3.org/2000/svg\" height=\"24px\"viewBox=\"0 0 24 24\"\n",
              "       width=\"24px\">\n",
              "    <path d=\"M0 0h24v24H0V0z\" fill=\"none\"/>\n",
              "    <path d=\"M18.56 5.44l.94 2.06.94-2.06 2.06-.94-2.06-.94-.94-2.06-.94 2.06-2.06.94zm-11 1L8.5 8.5l.94-2.06 2.06-.94-2.06-.94L8.5 2.5l-.94 2.06-2.06.94zm10 10l.94 2.06.94-2.06 2.06-.94-2.06-.94-.94-2.06-.94 2.06-2.06.94z\"/><path d=\"M17.41 7.96l-1.37-1.37c-.4-.4-.92-.59-1.43-.59-.52 0-1.04.2-1.43.59L10.3 9.45l-7.72 7.72c-.78.78-.78 2.05 0 2.83L4 21.41c.39.39.9.59 1.41.59.51 0 1.02-.2 1.41-.59l7.78-7.78 2.81-2.81c.8-.78.8-2.07 0-2.86zM5.41 20L4 18.59l7.72-7.72 1.47 1.35L5.41 20z\"/>\n",
              "  </svg>\n",
              "      </button>\n",
              "      \n",
              "  <style>\n",
              "    .colab-df-container {\n",
              "      display:flex;\n",
              "      flex-wrap:wrap;\n",
              "      gap: 12px;\n",
              "    }\n",
              "\n",
              "    .colab-df-convert {\n",
              "      background-color: #E8F0FE;\n",
              "      border: none;\n",
              "      border-radius: 50%;\n",
              "      cursor: pointer;\n",
              "      display: none;\n",
              "      fill: #1967D2;\n",
              "      height: 32px;\n",
              "      padding: 0 0 0 0;\n",
              "      width: 32px;\n",
              "    }\n",
              "\n",
              "    .colab-df-convert:hover {\n",
              "      background-color: #E2EBFA;\n",
              "      box-shadow: 0px 1px 2px rgba(60, 64, 67, 0.3), 0px 1px 3px 1px rgba(60, 64, 67, 0.15);\n",
              "      fill: #174EA6;\n",
              "    }\n",
              "\n",
              "    [theme=dark] .colab-df-convert {\n",
              "      background-color: #3B4455;\n",
              "      fill: #D2E3FC;\n",
              "    }\n",
              "\n",
              "    [theme=dark] .colab-df-convert:hover {\n",
              "      background-color: #434B5C;\n",
              "      box-shadow: 0px 1px 3px 1px rgba(0, 0, 0, 0.15);\n",
              "      filter: drop-shadow(0px 1px 2px rgba(0, 0, 0, 0.3));\n",
              "      fill: #FFFFFF;\n",
              "    }\n",
              "  </style>\n",
              "\n",
              "      <script>\n",
              "        const buttonEl =\n",
              "          document.querySelector('#df-6f4b6d7e-3458-4608-ac9a-1f3640b76082 button.colab-df-convert');\n",
              "        buttonEl.style.display =\n",
              "          google.colab.kernel.accessAllowed ? 'block' : 'none';\n",
              "\n",
              "        async function convertToInteractive(key) {\n",
              "          const element = document.querySelector('#df-6f4b6d7e-3458-4608-ac9a-1f3640b76082');\n",
              "          const dataTable =\n",
              "            await google.colab.kernel.invokeFunction('convertToInteractive',\n",
              "                                                     [key], {});\n",
              "          if (!dataTable) return;\n",
              "\n",
              "          const docLinkHtml = 'Like what you see? Visit the ' +\n",
              "            '<a target=\"_blank\" href=https://colab.research.google.com/notebooks/data_table.ipynb>data table notebook</a>'\n",
              "            + ' to learn more about interactive tables.';\n",
              "          element.innerHTML = '';\n",
              "          dataTable['output_type'] = 'display_data';\n",
              "          await google.colab.output.renderOutput(dataTable, element);\n",
              "          const docLink = document.createElement('div');\n",
              "          docLink.innerHTML = docLinkHtml;\n",
              "          element.appendChild(docLink);\n",
              "        }\n",
              "      </script>\n",
              "    </div>\n",
              "  </div>\n",
              "  "
            ]
          },
          "metadata": {},
          "execution_count": 3
        }
      ],
      "source": [
        "df_train = pd.read_csv('/content/drive/MyDrive/FND_Kannada/data/v2/train.csv')\n",
        "df_train.head()"
      ]
    },
    {
      "cell_type": "code",
      "execution_count": 4,
      "metadata": {
        "id": "53N7U2zSjrwt",
        "colab": {
          "base_uri": "https://localhost:8080/",
          "height": 206
        },
        "outputId": "35364cf3-fcac-4f70-e495-7861c514c479"
      },
      "outputs": [
        {
          "output_type": "execute_result",
          "data": {
            "text/plain": [
              "                                                news     source  label\n",
              "0  ನಿರಂತರ ಮಳೆ: ಕೊಳೆತ ಉದ್ದು ಬೆಳೆ                  ...  prajavani      1\n",
              "1      ಸಲಿಂಗ ಸಂಬಂಧ ವಿರೋಧಿಸಿದ್ದಕ್ಕೆ ಲಿಂಗ ಬದಲಿಸಿಕೊಂಡಳು    asianet      1\n",
              "2   ನ್ಯೂಯಾರ್ಕ್ ಟೈಮ್ಸ್‌ ಮುಖಪುಟದಲ್ಲಿ ಮೋದಿ ಬಗ್ಗೆ ವರದ...   oneindia      0\n",
              "3  ಡ್ರೋಣ್ ಬಾಯ್ ಪ್ರತಾಪ್‌ನನ್ನು ವಿಜ್ಞಾನಿಯಾಗಿ DRDOಗೆ ...     factly      0\n",
              "4  ಎಸ್ಎಂಕೆ, ನಾರಾಯಣ ಮೂರ್ತಿ, ಪ್ರಕಾಶ್ ಪಡುಕೋಣೆಗೆ ಕೆಂಪ...    asianet      1"
            ],
            "text/html": [
              "\n",
              "  <div id=\"df-6fa271ce-5383-4e83-baa1-2af1384c9c7f\">\n",
              "    <div class=\"colab-df-container\">\n",
              "      <div>\n",
              "<style scoped>\n",
              "    .dataframe tbody tr th:only-of-type {\n",
              "        vertical-align: middle;\n",
              "    }\n",
              "\n",
              "    .dataframe tbody tr th {\n",
              "        vertical-align: top;\n",
              "    }\n",
              "\n",
              "    .dataframe thead th {\n",
              "        text-align: right;\n",
              "    }\n",
              "</style>\n",
              "<table border=\"1\" class=\"dataframe\">\n",
              "  <thead>\n",
              "    <tr style=\"text-align: right;\">\n",
              "      <th></th>\n",
              "      <th>news</th>\n",
              "      <th>source</th>\n",
              "      <th>label</th>\n",
              "    </tr>\n",
              "  </thead>\n",
              "  <tbody>\n",
              "    <tr>\n",
              "      <th>0</th>\n",
              "      <td>ನಿರಂತರ ಮಳೆ: ಕೊಳೆತ ಉದ್ದು ಬೆಳೆ                  ...</td>\n",
              "      <td>prajavani</td>\n",
              "      <td>1</td>\n",
              "    </tr>\n",
              "    <tr>\n",
              "      <th>1</th>\n",
              "      <td>ಸಲಿಂಗ ಸಂಬಂಧ ವಿರೋಧಿಸಿದ್ದಕ್ಕೆ ಲಿಂಗ ಬದಲಿಸಿಕೊಂಡಳು</td>\n",
              "      <td>asianet</td>\n",
              "      <td>1</td>\n",
              "    </tr>\n",
              "    <tr>\n",
              "      <th>2</th>\n",
              "      <td>ನ್ಯೂಯಾರ್ಕ್ ಟೈಮ್ಸ್‌ ಮುಖಪುಟದಲ್ಲಿ ಮೋದಿ ಬಗ್ಗೆ ವರದ...</td>\n",
              "      <td>oneindia</td>\n",
              "      <td>0</td>\n",
              "    </tr>\n",
              "    <tr>\n",
              "      <th>3</th>\n",
              "      <td>ಡ್ರೋಣ್ ಬಾಯ್ ಪ್ರತಾಪ್‌ನನ್ನು ವಿಜ್ಞಾನಿಯಾಗಿ DRDOಗೆ ...</td>\n",
              "      <td>factly</td>\n",
              "      <td>0</td>\n",
              "    </tr>\n",
              "    <tr>\n",
              "      <th>4</th>\n",
              "      <td>ಎಸ್ಎಂಕೆ, ನಾರಾಯಣ ಮೂರ್ತಿ, ಪ್ರಕಾಶ್ ಪಡುಕೋಣೆಗೆ ಕೆಂಪ...</td>\n",
              "      <td>asianet</td>\n",
              "      <td>1</td>\n",
              "    </tr>\n",
              "  </tbody>\n",
              "</table>\n",
              "</div>\n",
              "      <button class=\"colab-df-convert\" onclick=\"convertToInteractive('df-6fa271ce-5383-4e83-baa1-2af1384c9c7f')\"\n",
              "              title=\"Convert this dataframe to an interactive table.\"\n",
              "              style=\"display:none;\">\n",
              "        \n",
              "  <svg xmlns=\"http://www.w3.org/2000/svg\" height=\"24px\"viewBox=\"0 0 24 24\"\n",
              "       width=\"24px\">\n",
              "    <path d=\"M0 0h24v24H0V0z\" fill=\"none\"/>\n",
              "    <path d=\"M18.56 5.44l.94 2.06.94-2.06 2.06-.94-2.06-.94-.94-2.06-.94 2.06-2.06.94zm-11 1L8.5 8.5l.94-2.06 2.06-.94-2.06-.94L8.5 2.5l-.94 2.06-2.06.94zm10 10l.94 2.06.94-2.06 2.06-.94-2.06-.94-.94-2.06-.94 2.06-2.06.94z\"/><path d=\"M17.41 7.96l-1.37-1.37c-.4-.4-.92-.59-1.43-.59-.52 0-1.04.2-1.43.59L10.3 9.45l-7.72 7.72c-.78.78-.78 2.05 0 2.83L4 21.41c.39.39.9.59 1.41.59.51 0 1.02-.2 1.41-.59l7.78-7.78 2.81-2.81c.8-.78.8-2.07 0-2.86zM5.41 20L4 18.59l7.72-7.72 1.47 1.35L5.41 20z\"/>\n",
              "  </svg>\n",
              "      </button>\n",
              "      \n",
              "  <style>\n",
              "    .colab-df-container {\n",
              "      display:flex;\n",
              "      flex-wrap:wrap;\n",
              "      gap: 12px;\n",
              "    }\n",
              "\n",
              "    .colab-df-convert {\n",
              "      background-color: #E8F0FE;\n",
              "      border: none;\n",
              "      border-radius: 50%;\n",
              "      cursor: pointer;\n",
              "      display: none;\n",
              "      fill: #1967D2;\n",
              "      height: 32px;\n",
              "      padding: 0 0 0 0;\n",
              "      width: 32px;\n",
              "    }\n",
              "\n",
              "    .colab-df-convert:hover {\n",
              "      background-color: #E2EBFA;\n",
              "      box-shadow: 0px 1px 2px rgba(60, 64, 67, 0.3), 0px 1px 3px 1px rgba(60, 64, 67, 0.15);\n",
              "      fill: #174EA6;\n",
              "    }\n",
              "\n",
              "    [theme=dark] .colab-df-convert {\n",
              "      background-color: #3B4455;\n",
              "      fill: #D2E3FC;\n",
              "    }\n",
              "\n",
              "    [theme=dark] .colab-df-convert:hover {\n",
              "      background-color: #434B5C;\n",
              "      box-shadow: 0px 1px 3px 1px rgba(0, 0, 0, 0.15);\n",
              "      filter: drop-shadow(0px 1px 2px rgba(0, 0, 0, 0.3));\n",
              "      fill: #FFFFFF;\n",
              "    }\n",
              "  </style>\n",
              "\n",
              "      <script>\n",
              "        const buttonEl =\n",
              "          document.querySelector('#df-6fa271ce-5383-4e83-baa1-2af1384c9c7f button.colab-df-convert');\n",
              "        buttonEl.style.display =\n",
              "          google.colab.kernel.accessAllowed ? 'block' : 'none';\n",
              "\n",
              "        async function convertToInteractive(key) {\n",
              "          const element = document.querySelector('#df-6fa271ce-5383-4e83-baa1-2af1384c9c7f');\n",
              "          const dataTable =\n",
              "            await google.colab.kernel.invokeFunction('convertToInteractive',\n",
              "                                                     [key], {});\n",
              "          if (!dataTable) return;\n",
              "\n",
              "          const docLinkHtml = 'Like what you see? Visit the ' +\n",
              "            '<a target=\"_blank\" href=https://colab.research.google.com/notebooks/data_table.ipynb>data table notebook</a>'\n",
              "            + ' to learn more about interactive tables.';\n",
              "          element.innerHTML = '';\n",
              "          dataTable['output_type'] = 'display_data';\n",
              "          await google.colab.output.renderOutput(dataTable, element);\n",
              "          const docLink = document.createElement('div');\n",
              "          docLink.innerHTML = docLinkHtml;\n",
              "          element.appendChild(docLink);\n",
              "        }\n",
              "      </script>\n",
              "    </div>\n",
              "  </div>\n",
              "  "
            ]
          },
          "metadata": {},
          "execution_count": 4
        }
      ],
      "source": [
        "df_test = pd.read_csv('/content/drive/MyDrive/FND_Kannada/data/v2/test.csv')\n",
        "df_test.head()"
      ]
    },
    {
      "cell_type": "code",
      "execution_count": 5,
      "metadata": {
        "id": "tCpj9bN3MnUc"
      },
      "outputs": [],
      "source": [
        "y_train = to_categorical(df_train.label.values)\n",
        "y_test = to_categorical(df_test.label.values)"
      ]
    },
    {
      "cell_type": "code",
      "execution_count": 6,
      "metadata": {
        "id": "UwmXjECYkHr_",
        "colab": {
          "base_uri": "https://localhost:8080/"
        },
        "outputId": "e939746d-0e14-4b4d-e46f-aecb5d963b9f"
      },
      "outputs": [
        {
          "output_type": "execute_result",
          "data": {
            "text/plain": [
              "news      object\n",
              "source    object\n",
              "label      int64\n",
              "dtype: object"
            ]
          },
          "metadata": {},
          "execution_count": 6
        }
      ],
      "source": [
        "df_train.dtypes"
      ]
    },
    {
      "cell_type": "code",
      "execution_count": 7,
      "metadata": {
        "id": "7qg6BcVirS3L",
        "colab": {
          "base_uri": "https://localhost:8080/"
        },
        "outputId": "8f01d857-cfb6-4b4b-e97a-401cc3ff02ce"
      },
      "outputs": [
        {
          "output_type": "stream",
          "name": "stdout",
          "text": [
            "20\n"
          ]
        }
      ],
      "source": [
        "maxi = -1\n",
        "for i, rev in enumerate(df_train['news']):\n",
        "    rev = str(rev)\n",
        "    tokens = rev.split()\n",
        "    if(len(tokens) > maxi):\n",
        "        maxi = len(tokens)\n",
        "print(maxi)"
      ]
    },
    {
      "cell_type": "code",
      "execution_count": 8,
      "metadata": {
        "id": "GhNqeyN4kxy5"
      },
      "outputs": [],
      "source": [
        "df_train['news'] = df_train.news.astype(str)\n",
        "df_test['news'] = df_test.news.astype(str)"
      ]
    },
    {
      "cell_type": "code",
      "execution_count": 9,
      "metadata": {
        "id": "BtPzKF3CPb0u"
      },
      "outputs": [],
      "source": [
        "#tokenizing the text\n",
        "tf.random.set_seed(1)\n",
        "tokenizer = Tokenizer()\n",
        "df_total = pd.concat([df_train['news'], df_test.news], axis = 0)\n",
        "tokenizer.fit_on_texts(df_total)"
      ]
    },
    {
      "cell_type": "code",
      "execution_count": 10,
      "metadata": {
        "id": "tZd_39tgrg-E"
      },
      "outputs": [],
      "source": [
        "max_rev_len = maxi\n",
        "vocab_size = len(tokenizer.word_index) + 1\n",
        "embed_dim = 300"
      ]
    },
    {
      "cell_type": "code",
      "execution_count": 11,
      "metadata": {
        "id": "Bl2IEbgZ60Cw",
        "colab": {
          "base_uri": "https://localhost:8080/"
        },
        "outputId": "2e09ee45-bfda-4362-bb3a-9f29314f5dd7"
      },
      "outputs": [
        {
          "output_type": "stream",
          "name": "stdout",
          "text": [
            "10652\n"
          ]
        }
      ],
      "source": [
        "print(len(tokenizer.word_index))"
      ]
    },
    {
      "cell_type": "code",
      "execution_count": 12,
      "metadata": {
        "id": "goJ2Rxxzrhwp"
      },
      "outputs": [],
      "source": [
        "#padding the tokenized text\n",
        "tf.random.set_seed(1)\n",
        "X_train = tokenizer.texts_to_sequences(df_train['news'])  \n",
        "X_train_pad = pad_sequences(X_train, maxlen = max_rev_len, padding = 'post')  \n",
        "X_test = tokenizer.texts_to_sequences(df_test.news)\n",
        "X_test_pad = pad_sequences(X_test, maxlen = max_rev_len, padding = 'post')"
      ]
    },
    {
      "cell_type": "code",
      "source": [
        "#training params\n",
        "batch_size = 64\n",
        "num_epochs = 100\n",
        "\n",
        "#model parameters\n",
        "num_filters = 64 \n",
        "embed_dim = 300 \n",
        "weight_decay = 1e-4"
      ],
      "metadata": {
        "id": "EewxSUy4We42"
      },
      "execution_count": 13,
      "outputs": []
    },
    {
      "cell_type": "markdown",
      "metadata": {
        "id": "CFRLMQ_ulu0z"
      },
      "source": [
        "Training the data on the model"
      ]
    },
    {
      "cell_type": "code",
      "source": [
        "model = Sequential()\n",
        "model.add(Embedding(input_dim = vocab_size, output_dim = 300, input_length = max_rev_len, trainable = True))\n",
        "model.add(Conv1D(num_filters, 5, activation = 'relu', padding = 'same'))\n",
        "model.add(MaxPooling1D(2))\n",
        "model.add(Conv1D(num_filters, 5, activation = 'relu', padding = 'same'))\n",
        "model.add(GlobalMaxPooling1D())\n",
        "model.add(Dense(128, activation = 'relu', kernel_regularizer = regularizers.l2(weight_decay)))\n",
        "model.add(Dropout(0.5))\n",
        "model.add(Dense(64, activation = 'relu', kernel_regularizer = regularizers.l2(weight_decay)))\n",
        "model.add(Dropout(0.5))\n",
        "model.add(Dense(2, activation = 'softmax')) \n",
        "adam = optimizers.Adam(lr = 0.0001, beta_1 = 0.99, beta_2 = 0.999, epsilon = 1e-08, decay = 0.0)\n",
        "model.compile(loss = 'binary_crossentropy', optimizer = adam, metrics = ['accuracy'])\n",
        "model.summary()"
      ],
      "metadata": {
        "id": "NwH7wuSOPYlj",
        "colab": {
          "base_uri": "https://localhost:8080/"
        },
        "outputId": "57918f43-232f-4f42-df00-4de88b5fd235"
      },
      "execution_count": 62,
      "outputs": [
        {
          "output_type": "stream",
          "name": "stdout",
          "text": [
            "Model: \"sequential_5\"\n",
            "_________________________________________________________________\n",
            " Layer (type)                Output Shape              Param #   \n",
            "=================================================================\n",
            " embedding_5 (Embedding)     (None, 20, 300)           3195900   \n",
            "                                                                 \n",
            " conv1d_10 (Conv1D)          (None, 20, 64)            96064     \n",
            "                                                                 \n",
            " max_pooling1d_5 (MaxPooling  (None, 10, 64)           0         \n",
            " 1D)                                                             \n",
            "                                                                 \n",
            " conv1d_11 (Conv1D)          (None, 10, 64)            20544     \n",
            "                                                                 \n",
            " global_max_pooling1d_5 (Glo  (None, 64)               0         \n",
            " balMaxPooling1D)                                                \n",
            "                                                                 \n",
            " dense_15 (Dense)            (None, 128)               8320      \n",
            "                                                                 \n",
            " dropout_10 (Dropout)        (None, 128)               0         \n",
            "                                                                 \n",
            " dense_16 (Dense)            (None, 64)                8256      \n",
            "                                                                 \n",
            " dropout_11 (Dropout)        (None, 64)                0         \n",
            "                                                                 \n",
            " dense_17 (Dense)            (None, 2)                 130       \n",
            "                                                                 \n",
            "=================================================================\n",
            "Total params: 3,329,214\n",
            "Trainable params: 3,329,214\n",
            "Non-trainable params: 0\n",
            "_________________________________________________________________\n"
          ]
        },
        {
          "output_type": "stream",
          "name": "stderr",
          "text": [
            "/usr/local/lib/python3.8/dist-packages/keras/optimizers/optimizer_v2/adam.py:110: UserWarning: The `lr` argument is deprecated, use `learning_rate` instead.\n",
            "  super(Adam, self).__init__(name, **kwargs)\n"
          ]
        }
      ]
    },
    {
      "cell_type": "code",
      "execution_count": 63,
      "metadata": {
        "id": "qdaNyQ4IVmNd"
      },
      "outputs": [],
      "source": [
        "#saving weights of the best model\n",
        "tf.random.set_seed(1)\n",
        "checkpoint_filepath = '/content/drive/MyDrive/FND_Kannada/data/v2/Checkpoints/cnn.hdf5'\n",
        "model_checkpoint_callback = tf.keras.callbacks.ModelCheckpoint(\n",
        "    filepath = checkpoint_filepath,\n",
        "    save_weights_only = True,\n",
        "    monitor = 'val_accuracy',\n",
        "    mode = 'max',\n",
        "    verbose = 1,\n",
        "    save_best_only = True)"
      ]
    },
    {
      "cell_type": "code",
      "source": [
        "early_stopping_callback = EarlyStopping(monitor = 'val_loss', mode = 'min', verbose = 2, patience = 5)"
      ],
      "metadata": {
        "id": "ne7Ng8_IJ_hG"
      },
      "execution_count": 64,
      "outputs": []
    },
    {
      "cell_type": "code",
      "source": [
        "#model training\n",
        "tf.random.set_seed(1)\n",
        "history_embedding = model.fit(X_train_pad, y_train, batch_size = 64, epochs = num_epochs, callbacks = [model_checkpoint_callback, early_stopping_callback], validation_split = 0.1, shuffle = True, verbose = 2)"
      ],
      "metadata": {
        "id": "nSoEX-QsrA-9",
        "colab": {
          "base_uri": "https://localhost:8080/"
        },
        "outputId": "31bf7b61-550d-4c68-968a-462fe94360e8"
      },
      "execution_count": 65,
      "outputs": [
        {
          "output_type": "stream",
          "name": "stdout",
          "text": [
            "Epoch 1/100\n",
            "\n",
            "Epoch 1: val_accuracy improved from -inf to 0.65217, saving model to /content/drive/MyDrive/FND_Kannada/data/v2/Checkpoints/cnn.hdf5\n",
            "33/33 - 4s - loss: 0.7010 - accuracy: 0.6232 - val_loss: 0.6907 - val_accuracy: 0.6522 - 4s/epoch - 129ms/step\n",
            "Epoch 2/100\n",
            "\n",
            "Epoch 2: val_accuracy did not improve from 0.65217\n",
            "33/33 - 2s - loss: 0.6829 - accuracy: 0.6531 - val_loss: 0.6686 - val_accuracy: 0.6522 - 2s/epoch - 62ms/step\n",
            "Epoch 3/100\n",
            "\n",
            "Epoch 3: val_accuracy did not improve from 0.65217\n",
            "33/33 - 2s - loss: 0.6654 - accuracy: 0.6531 - val_loss: 0.6568 - val_accuracy: 0.6522 - 2s/epoch - 62ms/step\n",
            "Epoch 4/100\n",
            "\n",
            "Epoch 4: val_accuracy did not improve from 0.65217\n",
            "33/33 - 2s - loss: 0.6642 - accuracy: 0.6527 - val_loss: 0.6552 - val_accuracy: 0.6522 - 2s/epoch - 63ms/step\n",
            "Epoch 5/100\n",
            "\n",
            "Epoch 5: val_accuracy did not improve from 0.65217\n",
            "33/33 - 2s - loss: 0.6625 - accuracy: 0.6536 - val_loss: 0.6534 - val_accuracy: 0.6522 - 2s/epoch - 62ms/step\n",
            "Epoch 6/100\n",
            "\n",
            "Epoch 6: val_accuracy did not improve from 0.65217\n",
            "33/33 - 2s - loss: 0.6569 - accuracy: 0.6556 - val_loss: 0.6535 - val_accuracy: 0.6522 - 2s/epoch - 62ms/step\n",
            "Epoch 7/100\n",
            "\n",
            "Epoch 7: val_accuracy did not improve from 0.65217\n",
            "33/33 - 2s - loss: 0.6569 - accuracy: 0.6541 - val_loss: 0.6538 - val_accuracy: 0.6522 - 2s/epoch - 62ms/step\n",
            "Epoch 8/100\n",
            "\n",
            "Epoch 8: val_accuracy did not improve from 0.65217\n",
            "33/33 - 2s - loss: 0.6505 - accuracy: 0.6541 - val_loss: 0.6517 - val_accuracy: 0.6522 - 2s/epoch - 62ms/step\n",
            "Epoch 9/100\n",
            "\n",
            "Epoch 9: val_accuracy did not improve from 0.65217\n",
            "33/33 - 2s - loss: 0.6463 - accuracy: 0.6541 - val_loss: 0.6480 - val_accuracy: 0.6522 - 2s/epoch - 62ms/step\n",
            "Epoch 10/100\n",
            "\n",
            "Epoch 10: val_accuracy did not improve from 0.65217\n",
            "33/33 - 2s - loss: 0.6409 - accuracy: 0.6546 - val_loss: 0.6441 - val_accuracy: 0.6522 - 2s/epoch - 61ms/step\n",
            "Epoch 11/100\n",
            "\n",
            "Epoch 11: val_accuracy did not improve from 0.65217\n",
            "33/33 - 2s - loss: 0.6329 - accuracy: 0.6541 - val_loss: 0.6400 - val_accuracy: 0.6522 - 2s/epoch - 62ms/step\n",
            "Epoch 12/100\n",
            "\n",
            "Epoch 12: val_accuracy did not improve from 0.65217\n",
            "33/33 - 2s - loss: 0.6204 - accuracy: 0.6541 - val_loss: 0.6337 - val_accuracy: 0.6522 - 2s/epoch - 61ms/step\n",
            "Epoch 13/100\n",
            "\n",
            "Epoch 13: val_accuracy did not improve from 0.65217\n",
            "33/33 - 2s - loss: 0.6050 - accuracy: 0.6541 - val_loss: 0.6228 - val_accuracy: 0.6522 - 2s/epoch - 62ms/step\n",
            "Epoch 14/100\n",
            "\n",
            "Epoch 14: val_accuracy did not improve from 0.65217\n",
            "33/33 - 2s - loss: 0.5718 - accuracy: 0.6541 - val_loss: 0.6053 - val_accuracy: 0.6522 - 2s/epoch - 62ms/step\n",
            "Epoch 15/100\n",
            "\n",
            "Epoch 15: val_accuracy did not improve from 0.65217\n",
            "33/33 - 2s - loss: 0.5259 - accuracy: 0.6609 - val_loss: 0.5781 - val_accuracy: 0.6522 - 2s/epoch - 63ms/step\n",
            "Epoch 16/100\n",
            "\n",
            "Epoch 16: val_accuracy improved from 0.65217 to 0.69565, saving model to /content/drive/MyDrive/FND_Kannada/data/v2/Checkpoints/cnn.hdf5\n",
            "33/33 - 2s - loss: 0.4631 - accuracy: 0.7053 - val_loss: 0.5396 - val_accuracy: 0.6957 - 2s/epoch - 74ms/step\n",
            "Epoch 17/100\n",
            "\n",
            "Epoch 17: val_accuracy improved from 0.69565 to 0.74348, saving model to /content/drive/MyDrive/FND_Kannada/data/v2/Checkpoints/cnn.hdf5\n",
            "33/33 - 2s - loss: 0.3861 - accuracy: 0.7918 - val_loss: 0.4990 - val_accuracy: 0.7435 - 2s/epoch - 65ms/step\n",
            "Epoch 18/100\n",
            "\n",
            "Epoch 18: val_accuracy improved from 0.74348 to 0.80000, saving model to /content/drive/MyDrive/FND_Kannada/data/v2/Checkpoints/cnn.hdf5\n",
            "33/33 - 2s - loss: 0.3081 - accuracy: 0.9227 - val_loss: 0.4687 - val_accuracy: 0.8000 - 2s/epoch - 72ms/step\n",
            "Epoch 19/100\n",
            "\n",
            "Epoch 19: val_accuracy improved from 0.80000 to 0.81739, saving model to /content/drive/MyDrive/FND_Kannada/data/v2/Checkpoints/cnn.hdf5\n",
            "33/33 - 2s - loss: 0.2389 - accuracy: 0.9739 - val_loss: 0.4541 - val_accuracy: 0.8174 - 2s/epoch - 64ms/step\n",
            "Epoch 20/100\n",
            "\n",
            "Epoch 20: val_accuracy improved from 0.81739 to 0.83913, saving model to /content/drive/MyDrive/FND_Kannada/data/v2/Checkpoints/cnn.hdf5\n",
            "33/33 - 2s - loss: 0.1763 - accuracy: 0.9918 - val_loss: 0.4181 - val_accuracy: 0.8391 - 2s/epoch - 64ms/step\n",
            "Epoch 21/100\n",
            "\n",
            "Epoch 21: val_accuracy did not improve from 0.83913\n",
            "33/33 - 2s - loss: 0.1131 - accuracy: 0.9957 - val_loss: 0.4006 - val_accuracy: 0.8391 - 2s/epoch - 62ms/step\n",
            "Epoch 22/100\n",
            "\n",
            "Epoch 22: val_accuracy did not improve from 0.83913\n",
            "33/33 - 2s - loss: 0.0648 - accuracy: 0.9981 - val_loss: 0.4205 - val_accuracy: 0.8391 - 2s/epoch - 70ms/step\n",
            "Epoch 23/100\n",
            "\n",
            "Epoch 23: val_accuracy improved from 0.83913 to 0.84348, saving model to /content/drive/MyDrive/FND_Kannada/data/v2/Checkpoints/cnn.hdf5\n",
            "33/33 - 2s - loss: 0.0406 - accuracy: 0.9981 - val_loss: 0.4762 - val_accuracy: 0.8435 - 2s/epoch - 64ms/step\n",
            "Epoch 24/100\n",
            "\n",
            "Epoch 24: val_accuracy did not improve from 0.84348\n",
            "33/33 - 2s - loss: 0.0285 - accuracy: 0.9990 - val_loss: 0.5642 - val_accuracy: 0.8304 - 2s/epoch - 62ms/step\n",
            "Epoch 25/100\n",
            "\n",
            "Epoch 25: val_accuracy improved from 0.84348 to 0.84783, saving model to /content/drive/MyDrive/FND_Kannada/data/v2/Checkpoints/cnn.hdf5\n",
            "33/33 - 2s - loss: 0.0251 - accuracy: 0.9971 - val_loss: 0.5988 - val_accuracy: 0.8478 - 2s/epoch - 64ms/step\n",
            "Epoch 26/100\n",
            "\n",
            "Epoch 26: val_accuracy did not improve from 0.84783\n",
            "33/33 - 2s - loss: 0.0251 - accuracy: 0.9981 - val_loss: 0.6422 - val_accuracy: 0.8391 - 2s/epoch - 61ms/step\n",
            "Epoch 26: early stopping\n"
          ]
        }
      ]
    },
    {
      "cell_type": "markdown",
      "metadata": {
        "id": "XEDmEzBWtZDB"
      },
      "source": [
        "Visualizing the training and validation results"
      ]
    },
    {
      "cell_type": "code",
      "execution_count": 66,
      "metadata": {
        "id": "8gERSr8jyqAa",
        "colab": {
          "base_uri": "https://localhost:8080/",
          "height": 265
        },
        "outputId": "46fe902d-0626-49e3-f93e-7a637338bf37"
      },
      "outputs": [
        {
          "output_type": "display_data",
          "data": {
            "text/plain": [
              "<Figure size 432x288 with 1 Axes>"
            ],
            "image/png": "[encoded data removed]"
          },
          "metadata": {
            "needs_background": "light"
          }
        }
      ],
      "source": [
        "plt.plot(history_embedding.history['loss'], c = 'b', label = 'train loss')\n",
        "plt.plot(history_embedding.history['val_loss'], c = 'r', label = 'validation loss')\n",
        "plt.legend()\n",
        "plt.show()"
      ]
    },
    {
      "cell_type": "code",
      "execution_count": 67,
      "metadata": {
        "id": "ZLFoUX5BV5RW",
        "colab": {
          "base_uri": "https://localhost:8080/",
          "height": 265
        },
        "outputId": "174de0f4-0425-4eac-f38c-08d3bc020c5e"
      },
      "outputs": [
        {
          "output_type": "display_data",
          "data": {
            "text/plain": [
              "<Figure size 432x288 with 1 Axes>"
            ],
            "image/png": "[encoded data removed]"
          },
          "metadata": {
            "needs_background": "light"
          }
        }
      ],
      "source": [
        "plt.plot(history_embedding.history['accuracy'], c = 'b', label = 'train accuracy')\n",
        "plt.plot(history_embedding.history['val_accuracy'] , c = 'r', label = 'validation accuracy')\n",
        "plt.legend(loc='lower right')\n",
        "plt.show()"
      ]
    },
    {
      "cell_type": "markdown",
      "metadata": {
        "id": "oMdxx-pbtdkK"
      },
      "source": [
        "Extracting classification report and confusion matrix"
      ]
    },
    {
      "cell_type": "code",
      "execution_count": 68,
      "metadata": {
        "id": "NXh22MN-g3CB"
      },
      "outputs": [],
      "source": [
        "tf.random.set_seed(1)"
      ]
    },
    {
      "cell_type": "code",
      "execution_count": 69,
      "metadata": {
        "id": "VvgZeO2kWrhO",
        "colab": {
          "base_uri": "https://localhost:8080/"
        },
        "outputId": "044e4d6b-58f7-47cf-ca79-95ef235c247f"
      },
      "outputs": [
        {
          "output_type": "stream",
          "name": "stdout",
          "text": [
            "16/16 [==============================] - 0s 6ms/step\n",
            "              precision    recall  f1-score   support\n",
            "\n",
            "           0       0.77      0.76      0.76       200\n",
            "           1       0.84      0.85      0.84       300\n",
            "\n",
            "    accuracy                           0.81       500\n",
            "   macro avg       0.80      0.80      0.80       500\n",
            "weighted avg       0.81      0.81      0.81       500\n",
            "\n"
          ]
        }
      ],
      "source": [
        "y_pred = np.argmax(model.predict(X_test_pad), axis = 1)\n",
        "y_true = np.argmax(y_test, axis = 1)\n",
        "print(metrics.classification_report(y_true, y_pred))"
      ]
    },
    {
      "cell_type": "code",
      "execution_count": 70,
      "metadata": {
        "id": "3uyIs1r0En6R",
        "colab": {
          "base_uri": "https://localhost:8080/"
        },
        "outputId": "6969b445-162b-44ce-c0df-6a344454be99"
      },
      "outputs": [
        {
          "output_type": "stream",
          "name": "stdout",
          "text": [
            "[[151  49]\n",
            " [ 46 254]]\n"
          ]
        }
      ],
      "source": [
        "cm = confusion_matrix(y_true, y_pred)\n",
        "print(cm)"
      ]
    },
    {
      "cell_type": "code",
      "execution_count": 71,
      "metadata": {
        "id": "Lg4iq5iwbWYc",
        "colab": {
          "base_uri": "https://localhost:8080/",
          "height": 282
        },
        "outputId": "308c89cb-bc36-455f-acd5-b23151bc3e43"
      },
      "outputs": [
        {
          "output_type": "execute_result",
          "data": {
            "text/plain": [
              "<matplotlib.axes._subplots.AxesSubplot at 0x7fc138d022e0>"
            ]
          },
          "metadata": {},
          "execution_count": 71
        },
        {
          "output_type": "display_data",
          "data": {
            "text/plain": [
              "<Figure size 432x288 with 2 Axes>"
            ],
            "image/png": "[encoded data removed]"
          },
          "metadata": {
            "needs_background": "light"
          }
        }
      ],
      "source": [
        "cm_matrix = pd.DataFrame(data = cm, columns = ['Actual Positive: 0', 'Actual Negative: 1'], index = ['Predict Positive: 0', 'Predict Negative: 1'])\n",
        "sns.heatmap(cm_matrix, annot = True, fmt = 'd', cmap = 'YlGnBu')"
      ]
    }
  ]
}